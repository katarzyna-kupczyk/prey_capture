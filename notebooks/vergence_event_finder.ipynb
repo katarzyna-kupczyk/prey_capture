{
 "cells": [
  {
   "cell_type": "code",
   "execution_count": 57,
   "id": "c4cf6d0f",
   "metadata": {},
   "outputs": [],
   "source": [
    "import pandas as pd\n",
    "import numpy as np\n",
    "import matplotlib.pyplot as plt\n",
    "import plotly.express as px\n",
    "from scipy.ndimage import gaussian_filter1d\n",
    "import json\n",
    "from scipy.special import expit\n",
    "from scipy import signal\n",
    "from scipy.optimize import curve_fit"
   ]
  },
  {
   "cell_type": "markdown",
   "id": "4d0943c7",
   "metadata": {},
   "source": [
    "### Gaussian function and threshold calculator "
   ]
  },
  {
   "cell_type": "code",
   "execution_count": 234,
   "id": "6eaeb2dd",
   "metadata": {},
   "outputs": [],
   "source": [
    "def gaus(X,C,X_mean,sigma):\n",
    "    return C*np.exp(-(X-X_mean)**2/(2*sigma**2))    "
   ]
  },
  {
   "cell_type": "code",
   "execution_count": 246,
   "id": "7d5f352f",
   "metadata": {},
   "outputs": [],
   "source": [
    "def calculate_eye_vergence_threshold(data):\n",
    "    \n",
    "    left = data['L_EYE'].fillna(method='ffill')\n",
    "    right = data['R_EYE'].fillna(method='ffill')    \n",
    "    combined = np.concatenate([right,-left])\n",
    "    \n",
    "    hist, bin_edges = np.histogram(combined)\n",
    "    hist=hist/sum(hist)\n",
    "\n",
    "    n = len(hist)\n",
    "    x_hist=np.zeros((n),dtype=float) \n",
    "    for ii in range(n):\n",
    "        x_hist[ii]=(bin_edges[ii+1]+bin_edges[ii])/2\n",
    "\n",
    "    y_hist=hist\n",
    "    mean = sum(x_hist*y_hist)/sum(y_hist)                  \n",
    "    sigma = sum(y_hist*(x_hist-mean)**2)/sum(y_hist) \n",
    "\n",
    "    #Gaussian least-square fitting process\n",
    "    param_optimised,param_covariance_matrix = curve_fit(gaus,x_hist,y_hist,method='dogbox',\\\n",
    "                                                        p0=[max(y_hist),mean,sigma],maxfev=5000)\n",
    "    x_hist_2=np.linspace(np.min(x_hist),np.max(x_hist),500)\n",
    "    weights = np.ones_like(combined) / len(combined)\n",
    "    \n",
    "    ### Calculate full width at half maximum --> Threshold for event detector\n",
    "    fwhm = 2*np.sqrt(2*np.log(2))*sigma \n",
    "    \n",
    "    return fwhm\n",
    "    "
   ]
  },
  {
   "cell_type": "markdown",
   "id": "0bf10eaf",
   "metadata": {},
   "source": [
    "### Loading Data"
   ]
  },
  {
   "cell_type": "code",
   "execution_count": 216,
   "id": "8bc66d99",
   "metadata": {},
   "outputs": [],
   "source": [
    "for fish in range(0,41):\n",
    "    exec(f'data{fish} = pd.read_csv(\"../raw_data/STIM_5_6_SIZEDOT_0.004_0.025/zfdata{fish}.csv\")')"
   ]
  },
  {
   "cell_type": "markdown",
   "id": "759e9489",
   "metadata": {},
   "source": [
    "### Making Threshold List"
   ]
  },
  {
   "cell_type": "code",
   "execution_count": 257,
   "id": "30944330",
   "metadata": {},
   "outputs": [],
   "source": [
    "threshold_list = [calculate_eye_vergence_threshold(df) for df in [data0,data1,data2,data3,data4,data5,data6,data7,\\\n",
    "                                                                 data8,data9,data10,data11,data12,data13,data14,\\\n",
    "                                                                 data15,data16,data17,data18,data19,data20,data21,\\\n",
    "                                                                 data22,data23,data24,data25,data26,data27,data28,\\\n",
    "                                                                 data29,data30,data31,data32,data33,data34,data35,\\\n",
    "                                                                 data36,data37,data38,data39,data40]]"
   ]
  },
  {
   "cell_type": "markdown",
   "id": "e694d8d9",
   "metadata": {},
   "source": [
    "### Plotting Gaussian Fit with Histogram"
   ]
  },
  {
   "cell_type": "code",
   "execution_count": 259,
   "id": "c2c76efc",
   "metadata": {
    "scrolled": false
   },
   "outputs": [
    {
     "data": {
      "image/png": "[encoded data removed]",
      "text/plain": [
       "<Figure size 640x480 with 1 Axes>"
      ]
     },
     "metadata": {},
     "output_type": "display_data"
    }
   ],
   "source": [
    "x_data=full\n",
    "\n",
    "#plotting the histogram\n",
    "hist, bin_edges = np.histogram(x_data)\n",
    "hist=hist/sum(hist)\n",
    "\n",
    "n = len(hist)\n",
    "x_hist=np.zeros((n),dtype=float) \n",
    "for ii in range(n):\n",
    "    x_hist[ii]=(bin_edges[ii+1]+bin_edges[ii])/2\n",
    "    \n",
    "y_hist=hist\n",
    "\n",
    "#Calculating the Gaussian PDF values given Gaussian parameters and random variable X\n",
    "def gaus(X,C,X_mean,sigma):\n",
    "    return C*np.exp(-(X-X_mean)**2/(2*sigma**2))\n",
    "\n",
    "mean = sum(x_hist*y_hist)/sum(y_hist)                  \n",
    "sigma = sum(y_hist*(x_hist-mean)**2)/sum(y_hist) \n",
    "\n",
    "#Gaussian least-square fitting process\n",
    "param_optimised,param_covariance_matrix = curve_fit(gaus,x_hist,y_hist,method='dogbox',\\\n",
    "                                                    p0=[max(y_hist),mean,sigma],maxfev=5000)\n",
    "fig = plt.figure()\n",
    "x_hist_2=np.linspace(np.min(x_hist),np.max(x_hist),500)\n",
    "plt.plot(x_hist_2,gaus(x_hist_2,*param_optimised),'r.:',label='Gaussian fit')\n",
    "\n",
    "#Normalise the histogram values\n",
    "weights = np.ones_like(x_data) / len(x_data)\n",
    "plt.hist(x_data, weights=weights,label='PDF')\n",
    "\n",
    "#setting the label,title and grid of the plot\n",
    "plt.xlabel(\"Data: Eye Angles\")\n",
    "plt.ylabel(\"Probability\")\n",
    "plt.legend()\n",
    "plt.grid(\"on\")\n",
    "plt.show()"
   ]
  },
  {
   "cell_type": "markdown",
   "id": "405e1819",
   "metadata": {},
   "source": [
    "### Testing "
   ]
  },
  {
   "cell_type": "code",
   "execution_count": null,
   "id": "0e3c8b32",
   "metadata": {},
   "outputs": [],
   "source": []
  },
  {
   "cell_type": "code",
   "execution_count": null,
   "id": "513b7039",
   "metadata": {},
   "outputs": [],
   "source": []
  }
 ],
 "metadata": {
  "kernelspec": {
   "display_name": "Python 3 (ipykernel)",
   "language": "python",
   "name": "python3"
  },
  "language_info": {
   "codemirror_mode": {
    "name": "ipython",
    "version": 3
   },
   "file_extension": ".py",
   "mimetype": "text/x-python",
   "name": "python",
   "nbconvert_exporter": "python",
   "pygments_lexer": "ipython3",
   "version": "3.8.6"
  },
  "toc": {
   "base_numbering": 1,
   "nav_menu": {},
   "number_sections": true,
   "sideBar": true,
   "skip_h1_title": false,
   "title_cell": "Table of Contents",
   "title_sidebar": "Contents",
   "toc_cell": false,
   "toc_position": {},
   "toc_section_display": true,
   "toc_window_display": false
  }
 },
 "nbformat": 4,
 "nbformat_minor": 5
}
